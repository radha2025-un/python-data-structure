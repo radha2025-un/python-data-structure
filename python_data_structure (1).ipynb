{
  "nbformat": 4,
  "nbformat_minor": 0,
  "metadata": {
    "colab": {
      "provenance": []
    },
    "kernelspec": {
      "name": "python3",
      "display_name": "Python 3"
    },
    "language_info": {
      "name": "python"
    }
  },
  "cells": [
    {
      "cell_type": "code",
      "execution_count": null,
      "metadata": {
        "colab": {
          "base_uri": "https://localhost:8080/"
        },
        "id": "quIZXlGAlHJX",
        "outputId": "57bf28dd-75ec-4ff5-c019-55762caa6864"
      },
      "outputs": [
        {
          "output_type": "stream",
          "name": "stdout",
          "text": [
            "Prachi\n"
          ]
        }
      ],
      "source": [
        "Answer 1:- s = \"Prachi\"\n",
        "print(s)"
      ]
    },
    {
      "cell_type": "code",
      "source": [
        "Answer 2:- s1 = \"Hello World\"\n",
        "print(len(s1))"
      ],
      "metadata": {
        "colab": {
          "base_uri": "https://localhost:8080/"
        },
        "id": "yfZLzc7OlY9L",
        "outputId": "0f0c701b-d931-446e-fb8b-ae7cd8ecc8c7"
      },
      "execution_count": null,
      "outputs": [
        {
          "output_type": "stream",
          "name": "stdout",
          "text": [
            "11\n"
          ]
        }
      ]
    },
    {
      "cell_type": "code",
      "source": [
        "Answer 3:- s = \"Python, Programming!\"\n",
        "\n",
        "# Slice string from index 0 to index 5 (exclusive)\n",
        "s2 = s[0:3]\n",
        "\n",
        "print(s2)"
      ],
      "metadata": {
        "colab": {
          "base_uri": "https://localhost:8080/"
        },
        "id": "kyN_ikshmCBa",
        "outputId": "2f67565a-7986-4ce7-f67f-254740e89aca"
      },
      "execution_count": null,
      "outputs": [
        {
          "output_type": "stream",
          "name": "stdout",
          "text": [
            "Pyt\n"
          ]
        }
      ]
    },
    {
      "cell_type": "code",
      "source": [
        "Answer 4:- str1 = 'Hello!'\n",
        "print(str1. upper())"
      ],
      "metadata": {
        "colab": {
          "base_uri": "https://localhost:8080/"
        },
        "id": "nRxNEoAqmyqg",
        "outputId": "b259b8c8-071c-46a1-edb2-54a52152ceb5"
      },
      "execution_count": null,
      "outputs": [
        {
          "output_type": "stream",
          "name": "stdout",
          "text": [
            "HELLO!\n"
          ]
        }
      ]
    },
    {
      "cell_type": "code",
      "source": [
        "Answer 5:- s = \"I like apple!\"\n",
        "\n",
        "# Replace \"apple\" with \"orange\"\n",
        "s1 = s.replace(\"apple\", \"orange\")\n",
        "\n",
        "print(s1)"
      ],
      "metadata": {
        "colab": {
          "base_uri": "https://localhost:8080/"
        },
        "id": "ANtf33FBngg2",
        "outputId": "2ef4de3c-6cb2-405a-85f0-242ca808b747"
      },
      "execution_count": null,
      "outputs": [
        {
          "output_type": "stream",
          "name": "stdout",
          "text": [
            " I like orange!\n"
          ]
        }
      ]
    },
    {
      "cell_type": "code",
      "source": [
        "Answer 6:-# create an empty list to store the numbers\n",
        "numbers = []\n",
        "\n",
        "# read 5 numbers from the user\n",
        "for i in range(5):\n",
        "    num = int(input(\"Enter a number: \"))\n",
        "    numbers.append(num)\n",
        "\n",
        "# print the numbers in reverse order\n",
        "print(\"The numbers in reverse order are:\")\n",
        "for num in reversed(numbers):\n",
        "    print(num)"
      ],
      "metadata": {
        "colab": {
          "base_uri": "https://localhost:8080/"
        },
        "id": "nBAx7beloUqG",
        "outputId": "ee39913c-ef8d-4e35-8462-332b6e1c8019"
      },
      "execution_count": null,
      "outputs": [
        {
          "output_type": "stream",
          "name": "stdout",
          "text": [
            "Enter a number: 1\n",
            "Enter a number: 2\n",
            "Enter a number: 3\n",
            "Enter a number: 4\n",
            "Enter a number: 5\n",
            "The numbers in reverse order are:\n",
            "5\n",
            "4\n",
            "3\n",
            "2\n",
            "1\n"
          ]
        }
      ]
    },
    {
      "cell_type": "code",
      "source": [
        "Answer 7:-input = [1, 2, 3, 4]\n",
        "key = 10\n",
        "\n",
        "result = []\n",
        "for ele in input:\n",
        "    result.append(ele)\n",
        "    result.append(key)\n",
        "\n",
        "print(result)"
      ],
      "metadata": {
        "colab": {
          "base_uri": "https://localhost:8080/"
        },
        "id": "hHMfveHOpaBb",
        "outputId": "85b68058-84a0-43aa-9154-58b61c016153"
      },
      "execution_count": null,
      "outputs": [
        {
          "output_type": "stream",
          "name": "stdout",
          "text": [
            "[1, 10, 2, 10, 3, 10, 4, 10]\n"
          ]
        }
      ]
    },
    {
      "cell_type": "code",
      "source": [
        "answer 8:- numbers = [1, 2, 3, 4, 5]\n",
        "\n",
        "# Elements to remove\n",
        "to_remove = [3]\n",
        "\n",
        "# Removing elements\n",
        "for item in to_remove:\n",
        "    if item in numbers:\n",
        "        numbers.remove(item)\n",
        "\n",
        "# Output the modified list\n",
        "print(numbers)"
      ],
      "metadata": {
        "colab": {
          "base_uri": "https://localhost:8080/"
        },
        "id": "o1yc4slPrSqY",
        "outputId": "469c2cd3-88bd-4e98-b06b-a0f486fdc0ac"
      },
      "execution_count": null,
      "outputs": [
        {
          "output_type": "stream",
          "name": "stdout",
          "text": [
            "[1, 2, 4, 5]\n"
          ]
        }
      ]
    },
    {
      "cell_type": "code",
      "source": [
        "Answer 9:- # initializing list\n",
        "test_list = [\"a\", \"b\", \"c\" , \"d\"]\n",
        "\n",
        "# printing original list\n",
        "print(\"The original list is : \" + str(test_list))\n",
        "\n",
        "# using list indexing\n",
        "# to get second element of list\n",
        "res = [test_list[1]]\n",
        "\n",
        "# printing result\n",
        "print(\"The second element of list are : \" + str(res))"
      ],
      "metadata": {
        "colab": {
          "base_uri": "https://localhost:8080/"
        },
        "id": "5I2J1Aoirjvo",
        "outputId": "25f99ebe-1c84-43c1-8a60-bdf5ef20711e"
      },
      "execution_count": null,
      "outputs": [
        {
          "output_type": "stream",
          "name": "stdout",
          "text": [
            "The original list is : ['a', 'b', 'c', 'd']\n",
            "The second element of list are : ['b']\n"
          ]
        }
      ]
    },
    {
      "cell_type": "code",
      "source": [
        "Answer 10:- a = [10, 20, 30, 40, 50]\n",
        "\n",
        "# Reverse the list in-place\n",
        "a.reverse()\n",
        "print(a)\n"
      ],
      "metadata": {
        "colab": {
          "base_uri": "https://localhost:8080/"
        },
        "id": "LB-glcDHs0YO",
        "outputId": "43a671fa-6cbd-4ed3-adef-ac2bcef96e2e"
      },
      "execution_count": null,
      "outputs": [
        {
          "output_type": "stream",
          "name": "stdout",
          "text": [
            "[50, 40, 30, 20, 10]\n"
          ]
        }
      ]
    },
    {
      "cell_type": "code",
      "source": [
        "answer 11:-# Note : In case of list, we use square\n",
        "# brackets []. Here we use round brackets ()\n",
        "t = (10, 20, 30)\n",
        "\n",
        "print(t)\n",
        "print(type(t))"
      ],
      "metadata": {
        "colab": {
          "base_uri": "https://localhost:8080/"
        },
        "id": "XLFZoKZ1uGo0",
        "outputId": "969b0339-c1de-48f1-aeb9-f50dc963d33f"
      },
      "execution_count": null,
      "outputs": [
        {
          "output_type": "stream",
          "name": "stdout",
          "text": [
            "(10, 20, 30)\n",
            "<class 'tuple'>\n"
          ]
        }
      ]
    },
    {
      "cell_type": "code",
      "source": [
        "answer 12:- # initializing list\n",
        "test_list = [\"apple\", \"banana\", \"cherry\"]\n",
        "\n",
        "# printing original list\n",
        "print(\"The original list is : \" + str(test_list))\n",
        "\n",
        "# using list indexing\n",
        "# to get first element of list\n",
        "res = [test_list[0]]\n",
        "\n",
        "# printing result\n",
        "print(\"The first element of list are : \" + str(res))"
      ],
      "metadata": {
        "colab": {
          "base_uri": "https://localhost:8080/"
        },
        "id": "0TrQQI8evdPa",
        "outputId": "da0fe6ac-1da0-406b-d895-38bd07ecfdde"
      },
      "execution_count": null,
      "outputs": [
        {
          "output_type": "stream",
          "name": "stdout",
          "text": [
            "The original list is : ['apple', 'banana', 'cherry']\n",
            "The first element of list are : ['apple']\n"
          ]
        }
      ]
    },
    {
      "cell_type": "code",
      "source": [
        "answer 13:- # Program to count the number of times an element\n",
        "# Present in the list\n",
        "\n",
        "\n",
        "def countX(tup, x):\n",
        "    count = 0\n",
        "    for ele in tup:\n",
        "        if (ele == x):\n",
        "            count = count + 1\n",
        "    return count\n",
        "\n",
        "\n",
        "# Driver Code\n",
        "tup = (1, 2, 3, 2, 4 , 2)\n",
        "enq = 2\n",
        "\n",
        "\n",
        "print(countX(tup, enq))\n"
      ],
      "metadata": {
        "colab": {
          "base_uri": "https://localhost:8080/"
        },
        "id": "-sYD8S6_v1KZ",
        "outputId": "f7c0c157-2fb1-4387-ad58-6bef5024ad3d"
      },
      "execution_count": null,
      "outputs": [
        {
          "output_type": "stream",
          "name": "stdout",
          "text": [
            "3\n"
          ]
        }
      ]
    },
    {
      "cell_type": "code",
      "source": [
        "answer 14:- my_tuple = ( \"dog\", \"cat\", \"rabbit\")\n",
        "print(my_tuple.index(\"cat\"))"
      ],
      "metadata": {
        "colab": {
          "base_uri": "https://localhost:8080/"
        },
        "id": "_IyzvKyFxO2P",
        "outputId": "ae79968a-1d6e-45b0-86ad-9344095953e7"
      },
      "execution_count": null,
      "outputs": [
        {
          "output_type": "stream",
          "name": "stdout",
          "text": [
            "1\n"
          ]
        }
      ]
    },
    {
      "cell_type": "code",
      "source": [
        "answer 15:- # Python3 code to demonstrate working of\n",
        "# Check if element is present in tuple\n",
        "# using loop\n",
        "\n",
        "# initialize tuple\n",
        "test_tup = (\"apple\", \"orange\", \"banana\")\n",
        "\n",
        "# printing original tuple\n",
        "print(\"The original tuple : \" + str(test_tup))\n",
        "\n",
        "# initialize N\n",
        "N = 3\n",
        "\n",
        "# Check if element is present in tuple\n",
        "# using loop\n",
        "res = True\n",
        "for ele in test_tup:\n",
        "    if N == ele:\n",
        "        res = True\n",
        "        break\n",
        "\n",
        "# printing result\n",
        "print(\"Does tuple contain required value ? : \" + str(res))"
      ],
      "metadata": {
        "colab": {
          "base_uri": "https://localhost:8080/"
        },
        "id": "k3pgwwCyxmE-",
        "outputId": "0da230ea-be15-4487-acc0-52e379b1826f"
      },
      "execution_count": null,
      "outputs": [
        {
          "output_type": "stream",
          "name": "stdout",
          "text": [
            "The original tuple : ('apple', 'orange', 'banana')\n",
            "Does tuple contain required value ? : True\n"
          ]
        }
      ]
    },
    {
      "cell_type": "code",
      "source": [
        "answer 16:- # Creating a Set with a List of Numbers\n",
        "# (Having duplicate values)\n",
        "set1 = set([1, 2, 3,  4, 5])\n",
        "print(\"\\nSet with the use of Numbers: \")\n",
        "print(set1)\n",
        "\n"
      ],
      "metadata": {
        "colab": {
          "base_uri": "https://localhost:8080/"
        },
        "id": "ioXgbzp2ydKF",
        "outputId": "523e924f-30d7-4cff-92ab-7497cc48c935"
      },
      "execution_count": null,
      "outputs": [
        {
          "output_type": "stream",
          "name": "stdout",
          "text": [
            "\n",
            "Set with the use of Numbers: \n",
            "{1, 2, 3, 4, 5}\n"
          ]
        }
      ]
    },
    {
      "cell_type": "code",
      "source": [
        "answer 17:- a = [1, 2, 3, 4]\n",
        "a.extend([6])\n",
        "\n",
        "print(a)"
      ],
      "metadata": {
        "colab": {
          "base_uri": "https://localhost:8080/"
        },
        "id": "habAkzyBzTJE",
        "outputId": "76d8f87e-bf3e-460f-a335-6400f31513de"
      },
      "execution_count": null,
      "outputs": [
        {
          "output_type": "stream",
          "name": "stdout",
          "text": [
            "[1, 2, 3, 4, 6]\n"
          ]
        }
      ]
    },
    {
      "cell_type": "code",
      "source": [
        "answer 18:- # Creating a Set with a List of Numbers\n",
        "# (Having duplicate values)\n",
        "set1 = set([10, 20, 30])\n",
        "print(\"\\nSet with the use of Numbers: \")\n",
        "print(set1)"
      ],
      "metadata": {
        "colab": {
          "base_uri": "https://localhost:8080/"
        },
        "id": "Xnrp36Za0hzS",
        "outputId": "f0c8d9ab-3cee-498f-fc2a-16a207937421"
      },
      "execution_count": null,
      "outputs": [
        {
          "output_type": "stream",
          "name": "stdout",
          "text": [
            "\n",
            "Set with the use of Numbers: \n",
            "{10, 20, 30}\n"
          ]
        }
      ]
    },
    {
      "cell_type": "code",
      "source": [
        "answer 19:- # initializing list\n",
        "test_list = [\"apple\", \"banana\", \"cherry\"]\n",
        "\n",
        "# printing original list\n",
        "print(\"The original list is : \" + str(test_list))\n",
        "\n",
        "# using list indexing\n",
        "# to get first element of list\n",
        "res = [test_list[0]]\n",
        "\n",
        "# printing result\n",
        "print(\"The first element of list are : \" + str(res))"
      ],
      "metadata": {
        "colab": {
          "base_uri": "https://localhost:8080/"
        },
        "id": "gEtUwWNn03fy",
        "outputId": "c357022e-d071-4f5f-dcbc-ae0cd1354964"
      },
      "execution_count": null,
      "outputs": [
        {
          "output_type": "stream",
          "name": "stdout",
          "text": [
            "The original list is : ['apple', 'banana', 'cherry']\n",
            "The first element of list are : ['apple']\n"
          ]
        }
      ]
    },
    {
      "cell_type": "code",
      "source": [
        " Answer 20:- # Program to count the number of times an element\n",
        "# Present in the list\n",
        "\n",
        "\n",
        "def countX(tup, x):\n",
        "    count = 0\n",
        "    for ele in tup:\n",
        "        if (ele == x):\n",
        "            count = count + 1\n",
        "    return count\n",
        "\n",
        "\n",
        "# Driver Code\n",
        "tup = (1, 2, 3, 2, 4 , 2)\n",
        "enq = 2"
      ],
      "metadata": {
        "id": "lCUocrNS1KjJ"
      },
      "execution_count": null,
      "outputs": []
    },
    {
      "cell_type": "code",
      "source": [
        "Answer 21:- my_tuple = ( \"dog\", \"cat\", \"rabbit\")\n",
        "print(my_tuple.index(\"cat\"))"
      ],
      "metadata": {
        "colab": {
          "base_uri": "https://localhost:8080/"
        },
        "id": "pFUkuyQ31xDx",
        "outputId": "c3a77e0f-0e68-4b78-82aa-3f230452a207"
      },
      "execution_count": null,
      "outputs": [
        {
          "output_type": "stream",
          "name": "stdout",
          "text": [
            "1\n"
          ]
        }
      ]
    },
    {
      "cell_type": "code",
      "source": [
        "answer 22:- # initializing list\n",
        "test_list = [\"apple\", \"banana\", \"cherry\"]\n",
        "\n",
        "# printing original list\n",
        "print(\"The original list is : \" + str(test_list))\n",
        "\n",
        "# using list indexing\n",
        "# to get first element of list\n",
        "res = [test_list[0]]\n",
        "\n",
        "# printing result\n",
        "print(\"The first element of list are : \" + str(res))"
      ],
      "metadata": {
        "colab": {
          "base_uri": "https://localhost:8080/"
        },
        "id": "rTme3uB72i0f",
        "outputId": "092a352b-8e3a-4c4c-9a8a-12770a80f4ac"
      },
      "execution_count": null,
      "outputs": [
        {
          "output_type": "stream",
          "name": "stdout",
          "text": [
            "The original list is : ['apple', 'banana', 'cherry']\n",
            "The first element of list are : ['apple']\n"
          ]
        }
      ]
    },
    {
      "cell_type": "code",
      "source": [
        "Answer 23:- # Creating a Set with a List of Numbers\n",
        "# (Having duplicate values)\n",
        "set1 = set([1, 2, 3,  4, 5])\n",
        "print(\"\\nSet with the use of Numbers: \")\n",
        "print(set1)"
      ],
      "metadata": {
        "colab": {
          "base_uri": "https://localhost:8080/"
        },
        "id": "Zf58ZEAT2qJ_",
        "outputId": "d7dfad02-4e1f-4e08-e5b0-75973c5de0b0"
      },
      "execution_count": null,
      "outputs": [
        {
          "output_type": "stream",
          "name": "stdout",
          "text": [
            "\n",
            "Set with the use of Numbers: \n",
            "{1, 2, 3, 4, 5}\n"
          ]
        }
      ]
    },
    {
      "cell_type": "code",
      "source": [
        "a = [1, 2, 3, 4]\n",
        "a.extend([6])\n",
        "\n",
        "print(a)Answer 24:-"
      ],
      "metadata": {
        "colab": {
          "base_uri": "https://localhost:8080/"
        },
        "id": "f-rXbLZ43AcW",
        "outputId": "57e64961-5662-4621-c2e6-0620da4ceb74"
      },
      "execution_count": null,
      "outputs": [
        {
          "output_type": "stream",
          "name": "stdout",
          "text": [
            "[1, 2, 3, 4, 6]\n"
          ]
        }
      ]
    },
    {
      "cell_type": "code",
      "source": [],
      "metadata": {
        "id": "-t-heL2L3IUO"
      },
      "execution_count": null,
      "outputs": []
    }
  ]
}